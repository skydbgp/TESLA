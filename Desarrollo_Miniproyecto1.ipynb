{
  "nbformat": 4,
  "nbformat_minor": 0,
  "metadata": {
    "colab": {
      "name": "Desarrollo Miniproyecto1.ipynb",
      "provenance": [],
      "collapsed_sections": [],
      "toc_visible": true,
      "authorship_tag": "ABX9TyPAlXQSFjRMltafJWxgz662",
      "include_colab_link": true
    },
    "kernelspec": {
      "name": "python3",
      "display_name": "Python 3"
    }
  },
  "cells": [
    {
      "cell_type": "markdown",
      "metadata": {
        "id": "view-in-github",
        "colab_type": "text"
      },
      "source": [
        "<a href=\"https://colab.research.google.com/github/skydbgp/TESLA/blob/master/Desarrollo_Miniproyecto1.ipynb\" target=\"_parent\"><img src=\"https://colab.research.google.com/assets/colab-badge.svg\" alt=\"Open In Colab\"/></a>"
      ]
    },
    {
      "cell_type": "code",
      "metadata": {
        "id": "o-z82f63Q2wj",
        "colab_type": "code",
        "colab": {
          "base_uri": "https://localhost:8080/",
          "height": 669
        },
        "outputId": "676ad32d-a937-499c-fa16-bbe6be7501c9"
      },
      "source": [
        "import pandas as pd\n",
        "import numpy as np\n",
        "\n",
        "\n",
        "d = {\n",
        "    'Nombre' : pd.Series(['Josefa','Daniel','Ivan','Camilo','Juan','Felipe','Constanza','Claudia','Tomas','Evelin',\n",
        "                          'Belen','Paola','Haydee','Pascuala','Edward','Karina','Vanessa','Marnele','Florencia','Susana']),\n",
        "    'Edad' : pd.Series([28,29,31,30,35,31,27,37,31,39,28,28,27,35,27,29,29,37,30,40]),\n",
        "    'Nota' : pd.Series([7.0,4.5,6.3,5.3,5.7,5.0,5.8,7.0,5.5,3.5,2.8,3.2,6.0,1.8,3.7,5.3,6.3,4.5,6.1,5.5]),   \n",
        "}\n",
        "\n",
        "df = pd.DataFrame(d)\n",
        "df"
      ],
      "execution_count": 9,
      "outputs": [
        {
          "output_type": "execute_result",
          "data": {
            "text/html": [
              "<div>\n",
              "<style scoped>\n",
              "    .dataframe tbody tr th:only-of-type {\n",
              "        vertical-align: middle;\n",
              "    }\n",
              "\n",
              "    .dataframe tbody tr th {\n",
              "        vertical-align: top;\n",
              "    }\n",
              "\n",
              "    .dataframe thead th {\n",
              "        text-align: right;\n",
              "    }\n",
              "</style>\n",
              "<table border=\"1\" class=\"dataframe\">\n",
              "  <thead>\n",
              "    <tr style=\"text-align: right;\">\n",
              "      <th></th>\n",
              "      <th>Nombre</th>\n",
              "      <th>Edad</th>\n",
              "      <th>Nota</th>\n",
              "    </tr>\n",
              "  </thead>\n",
              "  <tbody>\n",
              "    <tr>\n",
              "      <th>0</th>\n",
              "      <td>Josefa</td>\n",
              "      <td>28</td>\n",
              "      <td>7.0</td>\n",
              "    </tr>\n",
              "    <tr>\n",
              "      <th>1</th>\n",
              "      <td>Daniel</td>\n",
              "      <td>29</td>\n",
              "      <td>4.5</td>\n",
              "    </tr>\n",
              "    <tr>\n",
              "      <th>2</th>\n",
              "      <td>Indira</td>\n",
              "      <td>31</td>\n",
              "      <td>6.3</td>\n",
              "    </tr>\n",
              "    <tr>\n",
              "      <th>3</th>\n",
              "      <td>Camilo</td>\n",
              "      <td>30</td>\n",
              "      <td>5.3</td>\n",
              "    </tr>\n",
              "    <tr>\n",
              "      <th>4</th>\n",
              "      <td>Juan</td>\n",
              "      <td>35</td>\n",
              "      <td>5.7</td>\n",
              "    </tr>\n",
              "    <tr>\n",
              "      <th>5</th>\n",
              "      <td>Felipe</td>\n",
              "      <td>31</td>\n",
              "      <td>5.0</td>\n",
              "    </tr>\n",
              "    <tr>\n",
              "      <th>6</th>\n",
              "      <td>Constanza</td>\n",
              "      <td>27</td>\n",
              "      <td>5.8</td>\n",
              "    </tr>\n",
              "    <tr>\n",
              "      <th>7</th>\n",
              "      <td>Claudia</td>\n",
              "      <td>37</td>\n",
              "      <td>7.0</td>\n",
              "    </tr>\n",
              "    <tr>\n",
              "      <th>8</th>\n",
              "      <td>Tomas</td>\n",
              "      <td>31</td>\n",
              "      <td>5.5</td>\n",
              "    </tr>\n",
              "    <tr>\n",
              "      <th>9</th>\n",
              "      <td>Evelin</td>\n",
              "      <td>39</td>\n",
              "      <td>3.5</td>\n",
              "    </tr>\n",
              "    <tr>\n",
              "      <th>10</th>\n",
              "      <td>Belen</td>\n",
              "      <td>28</td>\n",
              "      <td>2.8</td>\n",
              "    </tr>\n",
              "    <tr>\n",
              "      <th>11</th>\n",
              "      <td>Paola</td>\n",
              "      <td>28</td>\n",
              "      <td>3.2</td>\n",
              "    </tr>\n",
              "    <tr>\n",
              "      <th>12</th>\n",
              "      <td>Javiera</td>\n",
              "      <td>27</td>\n",
              "      <td>6.0</td>\n",
              "    </tr>\n",
              "    <tr>\n",
              "      <th>13</th>\n",
              "      <td>Katherine</td>\n",
              "      <td>35</td>\n",
              "      <td>1.8</td>\n",
              "    </tr>\n",
              "    <tr>\n",
              "      <th>14</th>\n",
              "      <td>Edward</td>\n",
              "      <td>27</td>\n",
              "      <td>3.7</td>\n",
              "    </tr>\n",
              "    <tr>\n",
              "      <th>15</th>\n",
              "      <td>Karina</td>\n",
              "      <td>29</td>\n",
              "      <td>5.3</td>\n",
              "    </tr>\n",
              "    <tr>\n",
              "      <th>16</th>\n",
              "      <td>Vanessa</td>\n",
              "      <td>29</td>\n",
              "      <td>6.3</td>\n",
              "    </tr>\n",
              "    <tr>\n",
              "      <th>17</th>\n",
              "      <td>Marnele</td>\n",
              "      <td>37</td>\n",
              "      <td>4.5</td>\n",
              "    </tr>\n",
              "    <tr>\n",
              "      <th>18</th>\n",
              "      <td>Jessenia</td>\n",
              "      <td>30</td>\n",
              "      <td>6.1</td>\n",
              "    </tr>\n",
              "    <tr>\n",
              "      <th>19</th>\n",
              "      <td>Erika</td>\n",
              "      <td>40</td>\n",
              "      <td>5.5</td>\n",
              "    </tr>\n",
              "  </tbody>\n",
              "</table>\n",
              "</div>"
            ],
            "text/plain": [
              "       Nombre  Edad  Nota\n",
              "0      Josefa    28   7.0\n",
              "1      Daniel    29   4.5\n",
              "2      Indira    31   6.3\n",
              "3      Camilo    30   5.3\n",
              "4        Juan    35   5.7\n",
              "5      Felipe    31   5.0\n",
              "6   Constanza    27   5.8\n",
              "7     Claudia    37   7.0\n",
              "8       Tomas    31   5.5\n",
              "9      Evelin    39   3.5\n",
              "10      Belen    28   2.8\n",
              "11      Paola    28   3.2\n",
              "12    Javiera    27   6.0\n",
              "13  Katherine    35   1.8\n",
              "14     Edward    27   3.7\n",
              "15     Karina    29   5.3\n",
              "16    Vanessa    29   6.3\n",
              "17    Marnele    37   4.5\n",
              "18   Jessenia    30   6.1\n",
              "19      Erika    40   5.5"
            ]
          },
          "metadata": {
            "tags": []
          },
          "execution_count": 9
        }
      ]
    },
    {
      "cell_type": "code",
      "metadata": {
        "id": "zV6B9_nhWwTu",
        "colab_type": "code",
        "colab": {
          "base_uri": "https://localhost:8080/",
          "height": 517
        },
        "outputId": "25bccd1a-13a3-433b-d55f-c2a5ebed44e7"
      },
      "source": [
        "from scipy.stats import multivariate_normal\n",
        "import matplotlib.pyplot as plt\n",
        "import seaborn as sns\n",
        "import pandas as pd\n",
        "import numpy as np\n",
        "\n",
        "data1 = multivariate_normal(mean=[0,0],cov=1).rvs(1000)\n",
        "data1 = np.hstack([data1,np.zeros((data1.shape[0],1))])\n",
        "data1 = pd.DataFrame(data1, columns=['x','y','c'])\n",
        "\n",
        "data2 = multivariate_normal(mean=[3,5],cov=1).rvs(1000)\n",
        "data2 = np.hstack([data2,np.ones((data2.shape[0],1))])\n",
        "data2 = pd.DataFrame(data2, columns=['x','y','c'])\n",
        "\n",
        "data = np.concatenate([data1,data2],axis=0)\n",
        "data = pd.DataFrame(data, columns=['x','y','c'])\n",
        "\n",
        "\n",
        "print(data)\n",
        "\n",
        "sns.distplot(data['x'], bins=650, kde=True, rug=False);\n",
        "\n",
        "\n"
      ],
      "execution_count": 13,
      "outputs": [
        {
          "output_type": "stream",
          "text": [
            "             x         y    c\n",
            "0     0.808672  0.089345  0.0\n",
            "1    -0.653885  1.542167  0.0\n",
            "2    -1.038289 -1.030517  0.0\n",
            "3    -0.621374 -0.304879  0.0\n",
            "4     0.897074 -0.426073  0.0\n",
            "...        ...       ...  ...\n",
            "1995  3.149485  3.930812  1.0\n",
            "1996  3.564247  4.551912  1.0\n",
            "1997  2.786492  4.412810  1.0\n",
            "1998  2.769030  4.886473  1.0\n",
            "1999  4.647509  6.082038  1.0\n",
            "\n",
            "[2000 rows x 3 columns]\n"
          ],
          "name": "stdout"
        },
        {
          "output_type": "display_data",
          "data": {
            "image/png": "[encoded data removed]",
            "text/plain": [
              "<Figure size 432x288 with 1 Axes>"
            ]
          },
          "metadata": {
            "tags": [],
            "needs_background": "light"
          }
        }
      ]
    },
    {
      "cell_type": "code",
      "metadata": {
        "id": "R17HXJcGRkqI",
        "colab_type": "code",
        "colab": {
          "base_uri": "https://localhost:8080/",
          "height": 142
        },
        "outputId": "fd861fbb-d994-4ed2-c6a1-9f01b3b2578b"
      },
      "source": [
        "df[['Edad','Nota']].quantile([0.25,0.5,0.75])"
      ],
      "execution_count": 14,
      "outputs": [
        {
          "output_type": "execute_result",
          "data": {
            "text/html": [
              "<div>\n",
              "<style scoped>\n",
              "    .dataframe tbody tr th:only-of-type {\n",
              "        vertical-align: middle;\n",
              "    }\n",
              "\n",
              "    .dataframe tbody tr th {\n",
              "        vertical-align: top;\n",
              "    }\n",
              "\n",
              "    .dataframe thead th {\n",
              "        text-align: right;\n",
              "    }\n",
              "</style>\n",
              "<table border=\"1\" class=\"dataframe\">\n",
              "  <thead>\n",
              "    <tr style=\"text-align: right;\">\n",
              "      <th></th>\n",
              "      <th>Edad</th>\n",
              "      <th>Nota</th>\n",
              "    </tr>\n",
              "  </thead>\n",
              "  <tbody>\n",
              "    <tr>\n",
              "      <th>0.25</th>\n",
              "      <td>28.0</td>\n",
              "      <td>4.300</td>\n",
              "    </tr>\n",
              "    <tr>\n",
              "      <th>0.50</th>\n",
              "      <td>30.0</td>\n",
              "      <td>5.400</td>\n",
              "    </tr>\n",
              "    <tr>\n",
              "      <th>0.75</th>\n",
              "      <td>35.0</td>\n",
              "      <td>6.025</td>\n",
              "    </tr>\n",
              "  </tbody>\n",
              "</table>\n",
              "</div>"
            ],
            "text/plain": [
              "      Edad   Nota\n",
              "0.25  28.0  4.300\n",
              "0.50  30.0  5.400\n",
              "0.75  35.0  6.025"
            ]
          },
          "metadata": {
            "tags": []
          },
          "execution_count": 14
        }
      ]
    }
  ]
}